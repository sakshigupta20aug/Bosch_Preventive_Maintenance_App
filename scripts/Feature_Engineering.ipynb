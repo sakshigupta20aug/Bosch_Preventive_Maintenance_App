{
 "cells": [
  {
   "cell_type": "code",
   "execution_count": 1,
   "id": "452ba73e-6d1d-41b0-be62-55d7e76919c1",
   "metadata": {
    "execution": {
     "iopub.execute_input": "2025-09-19T13:08:56.563209Z",
     "iopub.status.busy": "2025-09-19T13:08:56.562208Z",
     "iopub.status.idle": "2025-09-19T13:11:27.836502Z",
     "shell.execute_reply": "2025-09-19T13:11:27.831522Z"
    }
   },
   "outputs": [
    {
     "name": "stdout",
     "output_type": "stream",
     "text": [
      "Loading numeric data...\n"
     ]
    },
    {
     "name": "stdout",
     "output_type": "stream",
     "text": [
      "Loading date/time data...\n"
     ]
    },
    {
     "name": "stdout",
     "output_type": "stream",
     "text": [
      "Loading categorical data...\n"
     ]
    },
    {
     "name": "stdout",
     "output_type": "stream",
     "text": [
      "Converting Id columns to int64 for merging...\n",
      "Merging features...\n"
     ]
    },
    {
     "name": "stdout",
     "output_type": "stream",
     "text": [
      "✅ Feature engineering complete! Saved fresh dataset: C:\\Users\\Admin\\Downloads\\Internship\\Bosch_PMP\\data\\processed\\bosch_clean.csv\n",
      "Processed dataset shape: (50000, 40)\n"
     ]
    }
   ],
   "source": [
    "# ================================\n",
    "# FEATURE ENGINEERING \n",
    "# ================================\n",
    "\n",
    "import pandas as pd\n",
    "from pathlib import Path\n",
    "\n",
    "# -----------------------------\n",
    "# Paths\n",
    "# -----------------------------\n",
    "PROJECT_DIR = Path(r\"C:\\Users\\Admin\\Downloads\\Internship\\Bosch_PMP\")\n",
    "RAW_DATA_PATH = Path(r\"C:\\Users\\Admin\\Downloads\\Internship\\Bosch_Project_Raw_Data\\data\\bosch\")\n",
    "PROCESSED_DIR = PROJECT_DIR / \"data\" / \"processed\"\n",
    "PROCESSED_DIR.mkdir(parents=True, exist_ok=True)\n",
    "\n",
    "# File paths\n",
    "NUM_FP = RAW_DATA_PATH / \"train_numeric.csv.zip\"\n",
    "DATE_FP = RAW_DATA_PATH / \"train_date.csv.zip\"\n",
    "CAT_FP = RAW_DATA_PATH / \"train_categorical.csv.zip\"\n",
    "\n",
    "# -----------------------------\n",
    "# Delete old processed CSV if exists\n",
    "# -----------------------------\n",
    "output_fp = PROCESSED_DIR / \"bosch_clean.csv\"\n",
    "if output_fp.exists():\n",
    "    output_fp.unlink()\n",
    "    print(f\"Deleted old processed file: {output_fp.name}\")\n",
    "\n",
    "# -----------------------------\n",
    "# 1. Load numeric data & labels\n",
    "# -----------------------------\n",
    "print(\"Loading numeric data...\")\n",
    "num_df = pd.read_csv(NUM_FP, compression='zip', nrows=50000)  # adjust nrows for memory\n",
    "labels = num_df[[\"Id\", \"Response\"]].rename(columns={\"Response\": \"target\"})\n",
    "\n",
    "# -----------------------------\n",
    "# 2. Compute cycle time from date data\n",
    "# -----------------------------\n",
    "print(\"Loading date/time data...\")\n",
    "date_df = pd.read_csv(DATE_FP, compression='zip', nrows=200000)  # adjust nrows\n",
    "date_cols = [c for c in date_df.columns if c != \"Id\"]\n",
    "date_min = date_df[date_cols].min(axis=1, skipna=True)\n",
    "date_max = date_df[date_cols].max(axis=1, skipna=True)\n",
    "cycle_time = (date_max - date_min).astype(\"float32\")\n",
    "date_features = pd.DataFrame({\"Id\": date_df[\"Id\"], \"cycle_time\": cycle_time})\n",
    "\n",
    "# -----------------------------\n",
    "# 3. Compute station flags from categorical data\n",
    "# -----------------------------\n",
    "print(\"Loading categorical data...\")\n",
    "cat_df = pd.read_csv(CAT_FP, compression='zip', nrows=200000, dtype=str)\n",
    "\n",
    "station_flags = pd.DataFrame({\"Id\": cat_df[\"Id\"]})\n",
    "for col in cat_df.columns:\n",
    "    if col == \"Id\":\n",
    "        continue\n",
    "    parts = col.split(\"_\")\n",
    "    if len(parts) > 1:\n",
    "        station = parts[1]\n",
    "        flag_col = f\"flag_{station}\"\n",
    "        if flag_col not in station_flags.columns:\n",
    "            station_flags[flag_col] = 0\n",
    "        station_flags[flag_col] = station_flags[flag_col] | (~cat_df[col].isna()).astype(int)\n",
    "\n",
    "# -----------------------------\n",
    "# 4. Numeric aggregates (mean, median, missing count)\n",
    "# -----------------------------\n",
    "agg_df = num_df.drop(columns=[\"Id\", \"Response\"], errors=\"ignore\")\n",
    "num_mean = agg_df.mean(axis=1, skipna=True)\n",
    "num_median = agg_df.median(axis=1, skipna=True)\n",
    "num_missing = agg_df.isna().sum(axis=1)\n",
    "\n",
    "numeric_agg = pd.DataFrame({\n",
    "    \"Id\": num_df[\"Id\"],\n",
    "    \"num_mean\": num_mean,\n",
    "    \"num_median\": num_median,\n",
    "    \"num_missing\": num_missing\n",
    "})\n",
    "\n",
    "# -----------------------------\n",
    "# 5. Merge everything\n",
    "# -----------------------------\n",
    "print(\"Converting Id columns to int64 for merging...\")\n",
    "labels[\"Id\"] = labels[\"Id\"].astype(\"int64\")\n",
    "date_features[\"Id\"] = date_features[\"Id\"].astype(\"int64\")\n",
    "station_flags[\"Id\"] = station_flags[\"Id\"].astype(\"int64\")\n",
    "numeric_agg[\"Id\"] = numeric_agg[\"Id\"].astype(\"int64\")\n",
    "\n",
    "print(\"Merging features...\")\n",
    "df = labels.merge(date_features, on=\"Id\", how=\"left\")\n",
    "df = df.merge(station_flags, on=\"Id\", how=\"left\")\n",
    "df = df.merge(numeric_agg, on=\"Id\", how=\"left\")\n",
    "\n",
    "# -----------------------------\n",
    "# 6. Save processed dataset\n",
    "# -----------------------------\n",
    "df.to_csv(output_fp, index=False)\n",
    "print(f\"✅ Feature engineering complete! Saved fresh dataset: {output_fp}\")\n",
    "print(\"Processed dataset shape:\", df.shape)\n"
   ]
  },
  {
   "cell_type": "code",
   "execution_count": null,
   "id": "6d0406e8-77be-4960-b554-54039edb0811",
   "metadata": {},
   "outputs": [],
   "source": []
  }
 ],
 "metadata": {
  "kernelspec": {
   "display_name": "Python 3 (ipykernel)",
   "language": "python",
   "name": "python3"
  },
  "language_info": {
   "codemirror_mode": {
    "name": "ipython",
    "version": 3
   },
   "file_extension": ".py",
   "mimetype": "text/x-python",
   "name": "python",
   "nbconvert_exporter": "python",
   "pygments_lexer": "ipython3",
   "version": "3.12.7"
  }
 },
 "nbformat": 4,
 "nbformat_minor": 5
}
