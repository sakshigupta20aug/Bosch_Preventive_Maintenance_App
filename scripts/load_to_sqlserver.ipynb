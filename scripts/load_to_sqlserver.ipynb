{
 "cells": [
  {
   "cell_type": "code",
   "execution_count": 1,
   "id": "c26ea406-8413-47ce-bab5-eaa7f771a0d0",
   "metadata": {},
   "outputs": [
    {
     "name": "stdout",
     "output_type": "stream",
     "text": [
      "✅ Loading cleaned dataset...\n",
      "Shape of cleaned dataset: (50000, 40)\n",
      "✅ Connecting to SQL Server...\n",
      "✅ Writing to SQL Server table (bosch_data)...\n",
      "✅ Data successfully loaded into SQL Server!\n",
      "Database: BoschDB, Table: bosch_data\n"
     ]
    }
   ],
   "source": [
    "# scripts/load_to_sqlserver.py\n",
    "\"\"\"\n",
    "Load cleaned Bosch dataset (bosch_clean.csv) into SQL Server database.\n",
    "Creates a table 'bosch_data' for SQL analytics & Power BI dashboards.\n",
    "\"\"\"\n",
    "\n",
    "import pandas as pd\n",
    "from sqlalchemy import create_engine\n",
    "from pathlib import Path\n",
    "\n",
    "# -------------------\n",
    "# Paths\n",
    "# -------------------\n",
    "project_dir = Path(r\"C:\\Users\\Admin\\Downloads\\Internship\\Bosch_PMP\")\n",
    "clean_fp = project_dir / \"data\" / \"processed\" / \"bosch_clean.csv\"\n",
    "\n",
    "# -------------------\n",
    "# Connection details (Windows Authentication)\n",
    "# -------------------\n",
    "server = r\"SakshiGupta\\SQLEXPRESS\"\n",
    "database = \"BoschDB\"\n",
    "driver = \"ODBC Driver 17 for SQL Server\"\n",
    "\n",
    "# Connection string for Windows Authentication\n",
    "connection_str = f\"mssql+pyodbc://@{server}/{database}?driver={driver}&trusted_connection=yes\"\n",
    "\n",
    "# -------------------\n",
    "# Main\n",
    "# -------------------\n",
    "def main():\n",
    "    print(\"✅ Loading cleaned dataset...\")\n",
    "    df = pd.read_csv(clean_fp, low_memory=False)\n",
    "    print(\"Shape of cleaned dataset:\", df.shape)\n",
    "\n",
    "    print(\"✅ Connecting to SQL Server...\")\n",
    "    engine = create_engine(connection_str, fast_executemany=True)\n",
    "\n",
    "    print(\"✅ Writing to SQL Server table (bosch_data)...\")\n",
    "    df.to_sql(\"bosch_data\", engine, if_exists=\"replace\", index=False, chunksize=5000)\n",
    "\n",
    "    print(\"✅ Data successfully loaded into SQL Server!\")\n",
    "    print(f\"Database: {database}, Table: bosch_data\")\n",
    "\n",
    "if __name__ == \"__main__\":\n",
    "    main()\n"
   ]
  },
  {
   "cell_type": "code",
   "execution_count": null,
   "id": "c6a314c6-9b1b-4201-a70c-b51d47e8308e",
   "metadata": {},
   "outputs": [],
   "source": []
  }
 ],
 "metadata": {
  "kernelspec": {
   "display_name": "Python 3 (ipykernel)",
   "language": "python",
   "name": "python3"
  },
  "language_info": {
   "codemirror_mode": {
    "name": "ipython",
    "version": 3
   },
   "file_extension": ".py",
   "mimetype": "text/x-python",
   "name": "python",
   "nbconvert_exporter": "python",
   "pygments_lexer": "ipython3",
   "version": "3.12.7"
  }
 },
 "nbformat": 4,
 "nbformat_minor": 5
}
