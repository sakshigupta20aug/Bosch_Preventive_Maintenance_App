{
 "cells": [
  {
   "cell_type": "code",
   "execution_count": 1,
   "id": "c6a314c6-9b1b-4201-a70c-b51d47e8308e",
   "metadata": {
    "execution": {
     "iopub.execute_input": "2025-09-19T13:12:03.964821Z",
     "iopub.status.busy": "2025-09-19T13:12:03.963824Z",
     "iopub.status.idle": "2025-09-19T13:12:22.196593Z",
     "shell.execute_reply": "2025-09-19T13:12:22.195598Z"
    }
   },
   "outputs": [
    {
     "name": "stdout",
     "output_type": "stream",
     "text": [
      "✅ Loading cleaned dataset...\n"
     ]
    },
    {
     "name": "stdout",
     "output_type": "stream",
     "text": [
      "Shape of cleaned dataset: (50000, 40)\n",
      "✅ Connecting to SQL Server...\n",
      "✅ Writing to SQL Server table 'bosch_data' (overwrite if exists)...\n"
     ]
    },
    {
     "name": "stdout",
     "output_type": "stream",
     "text": [
      "✅ Data successfully loaded into SQL Server!\n",
      "Database: BoschDB, Table: bosch_data\n"
     ]
    }
   ],
   "source": [
    "# ================================\n",
    "# LOAD TO SQL SERVER \n",
    "# ================================\n",
    "\n",
    "import pandas as pd\n",
    "from sqlalchemy import create_engine\n",
    "from pathlib import Path\n",
    "import sys\n",
    "\n",
    "# -------------------\n",
    "# Paths\n",
    "# -------------------\n",
    "PROJECT_DIR = Path(r\"C:\\Users\\Admin\\Downloads\\Internship\\Bosch_PMP\")\n",
    "CLEAN_FP = PROJECT_DIR / \"data\" / \"processed\" / \"bosch_clean.csv\"\n",
    "\n",
    "# -------------------\n",
    "# Connection details (Windows Authentication)\n",
    "# -------------------\n",
    "SERVER = r\"SakshiGupta\\SQLEXPRESS\"\n",
    "DATABASE = \"BoschDB\"\n",
    "DRIVER = \"ODBC Driver 17 for SQL Server\"\n",
    "\n",
    "# Connection string for Windows Authentication\n",
    "CONNECTION_STR = f\"mssql+pyodbc://@{SERVER}/{DATABASE}?driver={DRIVER}&trusted_connection=yes\"\n",
    "\n",
    "# -------------------\n",
    "# Main\n",
    "# -------------------\n",
    "def main():\n",
    "    try:\n",
    "        print(\"✅ Loading cleaned dataset...\")\n",
    "        df = pd.read_csv(CLEAN_FP, low_memory=False)\n",
    "        print(\"Shape of cleaned dataset:\", df.shape)\n",
    "\n",
    "        print(\"✅ Connecting to SQL Server...\")\n",
    "        engine = create_engine(CONNECTION_STR, fast_executemany=True)\n",
    "\n",
    "        print(\"✅ Writing to SQL Server table 'bosch_data' (overwrite if exists)...\")\n",
    "        df.to_sql(\"bosch_data\", engine, if_exists=\"replace\", index=False, chunksize=5000)\n",
    "\n",
    "        print(\"✅ Data successfully loaded into SQL Server!\")\n",
    "        print(f\"Database: {DATABASE}, Table: bosch_data\")\n",
    "\n",
    "    except Exception as e:\n",
    "        print(\"❌ ERROR during SQL loading:\", str(e))\n",
    "        sys.exit(1)\n",
    "\n",
    "if __name__ == \"__main__\":\n",
    "    main()\n"
   ]
  },
  {
   "cell_type": "code",
   "execution_count": null,
   "id": "ceb3df93-a9f2-4bfa-9ec8-97ff4d5c1a2c",
   "metadata": {},
   "outputs": [],
   "source": []
  }
 ],
 "metadata": {
  "kernelspec": {
   "display_name": "Python 3 (ipykernel)",
   "language": "python",
   "name": "python3"
  },
  "language_info": {
   "codemirror_mode": {
    "name": "ipython",
    "version": 3
   },
   "file_extension": ".py",
   "mimetype": "text/x-python",
   "name": "python",
   "nbconvert_exporter": "python",
   "pygments_lexer": "ipython3",
   "version": "3.12.7"
  }
 },
 "nbformat": 4,
 "nbformat_minor": 5
}
